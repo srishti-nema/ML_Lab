{
 "cells": [
  {
   "cell_type": "code",
   "execution_count": null,
   "metadata": {},
   "outputs": [],
   "source": [
    "#import libraries\n",
    "import numpy as np\n",
    "import pandas as pd\n",
    "import csv"
   ]
  },
  {
   "cell_type": "code",
   "execution_count": null,
   "metadata": {},
   "outputs": [],
   "source": [
    "#read csv and initialie arguments\n",
    "data = pd.read_csv(\"enjoysport.csv\")\n",
    "concepts = np.array(data.iloc[:, 0: -1])\n",
    "print(concepts)\n",
    "target = np.array(data.iloc[:,-1])\n",
    "print(target)"
   ]
  },
  {
   "cell_type": "code",
   "execution_count": null,
   "metadata": {},
   "outputs": [],
   "source": [
    "#function for candidate elimination\n",
    "def learn(concepts,target):\n",
    "    #initialize specific and general hypotheses\n",
    "    specific_h = concepts[0].copy()\n",
    "    print(\"Initialize specific and general hypotheses\")\n",
    "    print(specific_h)\n",
    "    general_h = [[\"?\" for i in range(len(specific_h))]for i in range(len(specific_h))]\n",
    "    print(general_h)\n",
    "    print(\"\\n\")\n",
    "    \n",
    "    #check for the data in last column and change data in respective arrays\n",
    "    for i,h in enumerate(concepts):\n",
    "        if target[i] == \"Yes\":\n",
    "            for x in range(len(specific_h)):\n",
    "                if h[x] != specific_h[x]:\n",
    "                    specific_h[x] = \"?\"\n",
    "                    general_h[x][x] = \"?\"\n",
    "        if target[i] == \"No\":\n",
    "            for x in range(len(specific_h)):\n",
    "                if h[x] != specific_h[x]:\n",
    "                    general_h[x][x] = specific_h[x]\n",
    "                else:\n",
    "                    general_h[x][x] = \"?\"\n",
    "                    \n",
    "        #print steps of elimination algorithm\n",
    "        print(\"Steps of Candidate elimination: \\n\")\n",
    "        print(\"S\" , i+1 , \": \" , specific_h)\n",
    "        print(\"G\" , i+1 , \": \" , general_h)\n",
    "        \n",
    "    #remove the initial arrays with no change in values from the final general hypothesis and return final results\n",
    "    indices = [i for i,val in enumerate(general_h) if val == [\"?\",\"?\",\"?\",\"?\",\"?\",\"?\"]]\n",
    "    for i in indices:\n",
    "        general_h.remove([\"?\",\"?\",\"?\",\"?\",\"?\",\"?\"])\n",
    "    return specific_h,general_h "
   ]
  },
  {
   "cell_type": "code",
   "execution_count": null,
   "metadata": {},
   "outputs": [],
   "source": [
    "#store final results after calling the function and print\n",
    "sfinal,gfinal = learn(concepts,target)\n",
    "print(\"Final specific hypothesis: \", sfinal, \"\\n\")\n",
    "print(\"Final general hypothesis: \", gfinal, \"\\n\")"
   ]
  }
 ],
 "metadata": {
  "kernelspec": {
   "display_name": "Python 3",
   "language": "python",
   "name": "python3"
  },
  "language_info": {
   "codemirror_mode": {
    "name": "ipython",
    "version": 3
   },
   "file_extension": ".py",
   "mimetype": "text/x-python",
   "name": "python",
   "nbconvert_exporter": "python",
   "pygments_lexer": "ipython3",
   "version": "3.8.6"
  }
 },
 "nbformat": 4,
 "nbformat_minor": 4
}
