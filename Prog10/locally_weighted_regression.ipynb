{
 "cells": [
  {
   "cell_type": "code",
   "execution_count": 2,
   "metadata": {},
   "outputs": [],
   "source": [
    "import matplotlib.pyplot as plt\n",
    "import pandas as pd\n",
    "import numpy as np"
   ]
  },
  {
   "cell_type": "code",
   "execution_count": 3,
   "metadata": {},
   "outputs": [],
   "source": [
    "df = pd.read_csv(\"tips.csv\")\n",
    "X = df[\"total_bill\"]\n",
    "Y = df[\"tip\"]"
   ]
  },
  {
   "cell_type": "code",
   "execution_count": 4,
   "metadata": {},
   "outputs": [],
   "source": [
    "def localRegression(X0, X, Y, tau):\n",
    "    X0 = np.r_[1, X0]\n",
    "    X = np.c_[np.ones(len(X)), X]\n",
    "    xw = X.T * kernel(X0, X, tau)\n",
    "    beta = np.linalg.pinv(xw@X)@xw@Y\n",
    "    return X0@beta"
   ]
  },
  {
   "cell_type": "code",
   "execution_count": 5,
   "metadata": {},
   "outputs": [],
   "source": [
    "def kernel(X0, X, tau):\n",
    "    return np.exp(np.sum( (X-X0)**2 / (-2*tau**2), axis = 1)) "
   ]
  },
  {
   "cell_type": "code",
   "execution_count": 10,
   "metadata": {},
   "outputs": [
    {
     "data": {
      "image/png": "[encoded data removed]",
      "text/plain": [
       "<Figure size 432x288 with 1 Axes>"
      ]
     },
     "metadata": {
      "needs_background": "light"
     },
     "output_type": "display_data"
    }
   ],
   "source": [
    "sortindex = X.argsort(0)\n",
    "prediction = np.array([localRegression(X0, X, Y, 10) for X0 in X])\n",
    "plt.scatter(X, Y, c = \"blue\")\n",
    "plt.plot(X[sortindex], prediction[sortindex], c = \"red\")\n",
    "plt.show()"
   ]
  }
 ],
 "metadata": {
  "kernelspec": {
   "display_name": "Python 3",
   "language": "python",
   "name": "python3"
  },
  "language_info": {
   "codemirror_mode": {
    "name": "ipython",
    "version": 3
   },
   "file_extension": ".py",
   "mimetype": "text/x-python",
   "name": "python",
   "nbconvert_exporter": "python",
   "pygments_lexer": "ipython3",
   "version": "3.8.6"
  }
 },
 "nbformat": 4,
 "nbformat_minor": 4
}
