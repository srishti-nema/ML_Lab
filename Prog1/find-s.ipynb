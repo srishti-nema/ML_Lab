{
 "cells": [
  {
   "cell_type": "code",
   "execution_count": null,
   "metadata": {},
   "outputs": [],
   "source": [
    "import random\n",
    "import csv"
   ]
  },
  {
   "cell_type": "code",
   "execution_count": null,
   "metadata": {},
   "outputs": [],
   "source": [
    "def readdata(filename):\n",
    "    with open(filename, \"r\") as csvfile:\n",
    "        datareader = csv.reader(csvfile, delimiter = \",\")\n",
    "        traindata = []\n",
    "        for row in datareader:\n",
    "            traindata.append(row)\n",
    "    return traindata"
   ]
  },
  {
   "cell_type": "code",
   "execution_count": null,
   "metadata": {},
   "outputs": [],
   "source": [
    "def findS():\n",
    "    dataarr = readdata(\"enjoysport.csv\")\n",
    "    h = ['0','0','0','0','0','0']\n",
    "    rows = len(dataarr)\n",
    "    columns = 7\n",
    "    for x in range(1,rows):\n",
    "        t = dataarr[x]\n",
    "        print(t)\n",
    "        if t[columns - 1] == '1':\n",
    "            for y in range(0,columns - 1):\n",
    "                if h[y] == t[y]:\n",
    "                    pass\n",
    "                elif h[y] != t[y] and h[y] == \"0\":\n",
    "                    h[y] = t[y]\n",
    "                elif h[y] != t[y] and h[y] != \"0\":\n",
    "                    h[y] = \"?\"\n",
    "            print(h)\n",
    "    print(\"Maximally specific set:\")\n",
    "    print('<', end = '')\n",
    "    for i in range(0,len(h)):\n",
    "        print(h[i],',',end = '')\n",
    "    print('>')"
   ]
  },
  {
   "cell_type": "code",
   "execution_count": null,
   "metadata": {},
   "outputs": [],
   "source": [
    "findS()"
   ]
  },
  {
   "cell_type": "code",
   "execution_count": 13,
   "metadata": {},
   "outputs": [
    {
     "name": "stdout",
     "output_type": "stream",
     "text": [
      "Maximally specific set: ['Sunny' 'Warm' '?' 'Strong' '?' '?']\n"
     ]
    }
   ],
   "source": [
    "#alternate method\n",
    "import pandas as pd\n",
    "import numpy as np\n",
    "data = pd.read_csv(\"enjoysport.csv\")\n",
    "#print(data)\n",
    "concept = np.array(data.iloc[:,:-1])\n",
    "#print(concept)\n",
    "target = np.array(data.iloc[:,-1])\n",
    "#print(target)\n",
    "def train(c,t):\n",
    "    for i,val in enumerate(t):\n",
    "        if val == 1:\n",
    "            specific_h = c[i].copy()\n",
    "            break;\n",
    "    for i,val in enumerate(c):\n",
    "        if t[i] == 1:\n",
    "            for x in range(len(specific_h)):\n",
    "                if val[x] != specific_h[x]:\n",
    "                    specific_h[x] = \"?\"\n",
    "                else:\n",
    "                    pass\n",
    "    return specific_h\n",
    "print(\"Maximally specific set:\", train(concept,target))"
   ]
  }
 ],
 "metadata": {
  "kernelspec": {
   "display_name": "Python 3",
   "language": "python",
   "name": "python3"
  },
  "language_info": {
   "codemirror_mode": {
    "name": "ipython",
    "version": 3
   },
   "file_extension": ".py",
   "mimetype": "text/x-python",
   "name": "python",
   "nbconvert_exporter": "python",
   "pygments_lexer": "ipython3",
   "version": "3.8.6"
  }
 },
 "nbformat": 4,
 "nbformat_minor": 4
}
