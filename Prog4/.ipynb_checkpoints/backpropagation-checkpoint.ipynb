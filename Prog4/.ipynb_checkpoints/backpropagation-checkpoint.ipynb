{
 "cells": [
  {
   "cell_type": "code",
   "execution_count": null,
   "metadata": {},
   "outputs": [],
   "source": [
    "import numpy as np"
   ]
  },
  {
   "cell_type": "code",
   "execution_count": null,
   "metadata": {},
   "outputs": [],
   "source": [
    "#initialize by taking values\n",
    "X = np.array(([2,9],[1,5],[3,6]), dtype = float)\n",
    "Y = np.array(([92],[86],[89]), dtype = float)\n",
    "X = X/np.amax(X, axis = 0)\n",
    "Y = Y/100"
   ]
  },
  {
   "cell_type": "code",
   "execution_count": null,
   "metadata": {},
   "outputs": [],
   "source": [
    "#define functions\n",
    "def sigmoid(x):\n",
    "    return 1/(1 + np.exp(-x))\n",
    "def derivative_of_sigmoid(x):\n",
    "    return x * (1-x)"
   ]
  },
  {
   "cell_type": "code",
   "execution_count": null,
   "metadata": {},
   "outputs": [],
   "source": [
    "#initialize and define constants\n",
    "epoch = 5000\n",
    "lr = 0.1\n",
    "inputlayer_neurons = 2\n",
    "hiddenlayer_neurons = 3\n",
    "output_neurons = 1"
   ]
  },
  {
   "cell_type": "code",
   "execution_count": null,
   "metadata": {},
   "outputs": [],
   "source": [
    "#defining weights and biases\n",
    "wh = np.random.uniform(size = (inputlayer_neurons, hiddenlayer_neurons))\n",
    "bh = np.random.uniform(size = (1, hiddenlayer_neurons))\n",
    "wout = np.random.uniform(size = (hiddenlayer_neurons, output_neurons))\n",
    "bout = np.random.uniform(size = (1, output_neurons))"
   ]
  },
  {
   "cell_type": "code",
   "execution_count": null,
   "metadata": {},
   "outputs": [],
   "source": [
    "#calculating the results and backpropagation method\n",
    "for i in range(epoch):\n",
    "    hinp1 = np.dot(X,wh)\n",
    "    hinp = hinp1 + bh\n",
    "    hlayer_act = sigmoid(hinp)\n",
    "    outinp1 = np.dot(hlayer_act, wout)\n",
    "    outinp = outinp1 + bout\n",
    "    output = sigmoid(outinp)\n",
    "    #backpropagation\n",
    "    EO = Y - output\n",
    "    outgrad = derivative_of_sigmoid(output)\n",
    "    d_output = EO * outgrad\n",
    "    EH = d_output.dot(wout.T)\n",
    "    hidden_grad = derivative_of_sigmoid(hlayer_act)\n",
    "    d_hiddenlayer = EH * hidden_grad"
   ]
  },
  {
   "cell_type": "code",
   "execution_count": null,
   "metadata": {},
   "outputs": [],
   "source": [
    "#weights for next layer\n",
    "wout += hlayer_act.T.dot(d_output) * lr\n",
    "wh += X.T.dot(d_hiddenlayer) *lr\n",
    "#printing the results\n",
    "print(\"Input: \" + str(X))\n",
    "print(\"Actual Output: \" + str(Y))\n",
    "print(\"Predited Output: \" + str(output))"
   ]
  }
 ],
 "metadata": {
  "kernelspec": {
   "display_name": "Python 3",
   "language": "python",
   "name": "python3"
  },
  "language_info": {
   "codemirror_mode": {
    "name": "ipython",
    "version": 3
   },
   "file_extension": ".py",
   "mimetype": "text/x-python",
   "name": "python",
   "nbconvert_exporter": "python",
   "pygments_lexer": "ipython3",
   "version": "3.8.6"
  }
 },
 "nbformat": 4,
 "nbformat_minor": 4
}
