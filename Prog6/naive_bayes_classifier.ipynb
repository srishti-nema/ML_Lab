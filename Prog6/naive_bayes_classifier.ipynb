{
 "cells": [
  {
   "cell_type": "code",
   "execution_count": null,
   "metadata": {},
   "outputs": [],
   "source": [
    "import pandas as pd\n",
    "from sklearn.model_selection import train_test_split\n",
    "from sklearn.feature_extraction.text import CountVectorizer\n",
    "from sklearn.naive_bayes import MultinomialNB\n",
    "from sklearn import metrics"
   ]
  },
  {
   "cell_type": "code",
   "execution_count": null,
   "metadata": {},
   "outputs": [],
   "source": [
    "msg = pd.read_csv(\"naivetext.csv\", names=[\"message\", \"label\"])\n",
    "msg[\"labelnum\"] = msg.label.map({\"pos\":1,\"neg\":0})\n",
    "X = msg.message\n",
    "y = msg.labelnum"
   ]
  },
  {
   "cell_type": "code",
   "execution_count": null,
   "metadata": {},
   "outputs": [],
   "source": [
    "xtrain, xtest, ytrain, ytest = train_test_split(X, y)"
   ]
  },
  {
   "cell_type": "code",
   "execution_count": null,
   "metadata": {},
   "outputs": [],
   "source": [
    "count_vect = CountVectorizer()\n",
    "xtrain_dtm = count_vect.fit_transform(xtrain)\n",
    "xtest_dtm = count_vect.transform(xtest)"
   ]
  },
  {
   "cell_type": "code",
   "execution_count": null,
   "metadata": {},
   "outputs": [],
   "source": [
    "print(xtrain_dtm)\n",
    "print(count_vect.get_feature_names())\n",
    "df = pd.DataFrame(xtrain_dtm.toarray(), columns=count_vect.get_feature_names())\n",
    "print(\"\\nXtrain:\\n\", df)\n",
    "clf = MultinomialNB().fit(xtrain_dtm, ytrain)\n",
    "predicted = clf.predict(xtest_dtm)"
   ]
  },
  {
   "cell_type": "code",
   "execution_count": null,
   "metadata": {},
   "outputs": [],
   "source": [
    "print(\"\\nAccuracy metrics\\n------------------\")\n",
    "print(\"Accuracy of the classifer is\", metrics.accuracy_score(ytest, predicted))\n",
    "print(\"Confusion matrix:\")\n",
    "print(metrics.confusion_matrix(ytest, predicted))\n",
    "print(\"Recall and Precison:\")\n",
    "print(metrics.recall_score(ytest, predicted))\n",
    "print(metrics.precision_score(ytest, predicted))"
   ]
  }
 ],
 "metadata": {
  "kernelspec": {
   "display_name": "Python 3",
   "language": "python",
   "name": "python3"
  },
  "language_info": {
   "codemirror_mode": {
    "name": "ipython",
    "version": 3
   },
   "file_extension": ".py",
   "mimetype": "text/x-python",
   "name": "python",
   "nbconvert_exporter": "python",
   "pygments_lexer": "ipython3",
   "version": "3.8.6"
  }
 },
 "nbformat": 4,
 "nbformat_minor": 4
}
