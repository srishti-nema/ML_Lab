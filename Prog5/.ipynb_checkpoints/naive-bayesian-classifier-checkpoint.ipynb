{
 "cells": [
  {
   "cell_type": "code",
   "execution_count": 108,
   "metadata": {},
   "outputs": [
    {
     "name": "stdout",
     "output_type": "stream",
     "text": [
      "Initially:  20 columns. After dropping NA:  19 columns.\n"
     ]
    }
   ],
   "source": [
    "import numpy as np\n",
    "import pandas as pd\n",
    "mush = pd.read_csv(\"mushroom.csv\")\n",
    "mush.replace(\"?\", np.nan, inplace = True)\n",
    "print(\"Initially: \", len(mush.columns), \"columns. After dropping NA: \", len(mush.dropna(axis = 1).columns), \"columns.\")"
   ]
  },
  {
   "cell_type": "code",
   "execution_count": 109,
   "metadata": {},
   "outputs": [],
   "source": [
    "mush.dropna(axis = 1, inplace = True)\n",
    "target = \"class\"\n",
    "features = mush.columns[mush.columns != target]\n",
    "classes = mush[target].unique()\n",
    "test = mush.sample(frac = 0.3)\n",
    "mush = mush.drop(test.index)\n",
    "probs = {}\n",
    "probcl = {}\n",
    "for x in classes:\n",
    "    mushcl = mush[mush[target] == x][features]\n",
    "    clsp = {}\n",
    "    tot = len(mushcl) \n",
    "    for col in mushcl.columns:\n",
    "        colp = {}\n",
    "        for val,cnt in mushcl[col].value_counts().iteritems():\n",
    "            pr = cnt/tot\n",
    "            colp[val] = pr\n",
    "            clsp[col] = colp\n",
    "    probs[x] = clsp\n",
    "    probcl[x] = len(mushcl) / len(mush)"
   ]
  },
  {
   "cell_type": "code",
   "execution_count": 110,
   "metadata": {},
   "outputs": [],
   "source": [
    "def probabs(x):\n",
    "    if not isinstance(x,pd.Series):\n",
    "        raise IOError(\"Arg must be of type Series\")\n",
    "    probab = {}\n",
    "    for cl in classes:\n",
    "        pr = probcl[cl]\n",
    "        for col,val in x.iteritems():\n",
    "            try:\n",
    "                pr *= probs[cl][col][val]\n",
    "            except KeyError:\n",
    "                pr = 0\n",
    "        probab[cl] = pr\n",
    "    return probab"
   ]
  },
  {
   "cell_type": "code",
   "execution_count": 111,
   "metadata": {},
   "outputs": [],
   "source": [
    "def classify(x):\n",
    "    probab = probabs(x)\n",
    "    mx = 0\n",
    "    mxcl = \"\"\n",
    "    for cl,pr in probab.items():\n",
    "        if pr>mx:\n",
    "            mx = pr\n",
    "            mxcl = cl\n",
    "    return mxcl"
   ]
  },
  {
   "cell_type": "code",
   "execution_count": 112,
   "metadata": {},
   "outputs": [
    {
     "name": "stdout",
     "output_type": "stream",
     "text": [
      "Train dataset: \n",
      "45  correct out of  45\n",
      "Accuracy:  1.0\n"
     ]
    }
   ],
   "source": [
    "b = []\n",
    "for i in mush.index:\n",
    "    b.append(classify(mush.loc[i,features]) == mush.loc[i,target])\n",
    "print(\"Train dataset: \")\n",
    "print(sum(b), \" correct out of \", len(mush))\n",
    "print(\"Accuracy: \", sum(b) / len(mush))"
   ]
  },
  {
   "cell_type": "code",
   "execution_count": 113,
   "metadata": {},
   "outputs": [
    {
     "name": "stdout",
     "output_type": "stream",
     "text": [
      "Test dataset: \n",
      "19  correct out of  20\n",
      "Accuracy:  0.95\n"
     ]
    }
   ],
   "source": [
    "b = []\n",
    "for i in test.index:\n",
    "    b.append(classify(test.loc[i,features]) == test.loc[i,target])\n",
    "print(\"Test dataset: \")\n",
    "print(sum(b), \" correct out of \", len(test))\n",
    "print(\"Accuracy: \", sum(b) / len(test))"
   ]
  },
  {
   "cell_type": "code",
   "execution_count": null,
   "metadata": {},
   "outputs": [],
   "source": [
    "#alternate with libraries\n",
    "import pandas as pd\n",
    "from sklearn.model_selection import train_test_split\n",
    "from sklearn.naive_bayes import GaussianNB\n",
    "from sklearn.preprocessing import LabelEncoder\n",
    "from sklearn import metrics\n",
    "\n",
    "df = pd.read_csv(\"mushroom.csv\")\n",
    "df.astype(\"category\")\n",
    "labelencoder=LabelEncoder()\n",
    "for column in df.columns:\n",
    "    df[column] = labelencoder.fit_transform(df[column])\n",
    "print(\"Initially\", len(df.columns), \"columns. After dropping NA:\", len(df.dropna(axis=1).columns), \"columns\")\n",
    "\n",
    "#splitting the dataset into train and test data\n",
    "\n",
    "X = df.drop([\"class\"], axis=1)\n",
    "y = df[\"class\"]\n",
    "X_train, X_test, y_train, y_test = train_test_split(X, y, random_state=42, test_size=0.33)\n",
    "\n",
    "print ('\\n the total number of Training Data :',y_train.shape)\n",
    "print ('\\n the total number of Test Data :',y_test.shape)\n",
    "\n",
    "\n",
    "# Training Naive Bayes (NB) classifier on training data.\n",
    "nb = GaussianNB()\n",
    "nb.fit(X_train,y_train)\n",
    "predicted = nb.predict(X_test)\n",
    "#printing Confusion matrix, accuracy, Precision and Recall\n",
    "\n",
    "print('\\n Confusion matrix')\n",
    "print(metrics.confusion_matrix(y_test,predicted))\n",
    "\n",
    "print('\\n Accuracy of the classifier is',metrics.accuracy_score(y_test,predicted))\n",
    "\n",
    "print('\\n The value of Precision', metrics.precision_score(y_test,predicted))\n",
    "\n",
    "print('\\n The value of Recall', metrics.recall_score(y_test,predicted))"
   ]
  }
 ],
 "metadata": {
  "kernelspec": {
   "display_name": "Python 3",
   "language": "python",
   "name": "python3"
  },
  "language_info": {
   "codemirror_mode": {
    "name": "ipython",
    "version": 3
   },
   "file_extension": ".py",
   "mimetype": "text/x-python",
   "name": "python",
   "nbconvert_exporter": "python",
   "pygments_lexer": "ipython3",
   "version": "3.8.6"
  }
 },
 "nbformat": 4,
 "nbformat_minor": 4
}
