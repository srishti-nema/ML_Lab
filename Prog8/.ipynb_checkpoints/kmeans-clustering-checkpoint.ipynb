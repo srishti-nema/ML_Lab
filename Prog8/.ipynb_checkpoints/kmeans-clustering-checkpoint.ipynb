{
 "cells": [
  {
   "cell_type": "code",
   "execution_count": null,
   "metadata": {},
   "outputs": [],
   "source": [
    "import copy\n",
    "import numpy as np\n",
    "import pandas as pd\n",
    "from matplotlib import pyplot as plt\n",
    "from sklearn.cluster import KMeans\n",
    "from sklearn.mixture import GaussianMixture"
   ]
  },
  {
   "cell_type": "code",
   "execution_count": null,
   "metadata": {},
   "outputs": [],
   "source": [
    "data = pd.read_csv(\"ex.csv\")\n",
    "print(\"Input data and its size: \\n\")\n",
    "print(data.head(3))\n",
    "print(data.shape)"
   ]
  },
  {
   "cell_type": "code",
   "execution_count": null,
   "metadata": {},
   "outputs": [],
   "source": [
    "f1 = data[\"V1\"].values\n",
    "f2 = data[\"V2\"].values\n",
    "X = np.array(list(zip(f1,f2)))\n",
    "plt.title(\"Graph for entire dataset\")\n",
    "plt.scatter(f1, f2, c = \"black\", s = 50)\n",
    "plt.show()"
   ]
  },
  {
   "cell_type": "code",
   "execution_count": null,
   "metadata": {},
   "outputs": [],
   "source": [
    "kmeans = KMeans(2, random_state = 0)\n",
    "labels = kmeans.fit(X).predict(X)\n",
    "centroids = kmeans.cluster_centers_\n",
    "print(\"Kmeans labels: \", labels)\n",
    "plt.title(\"Graph by Kmeans\")\n",
    "plt.scatter(X[:,0], X[:,1], c = labels, s = 50)\n",
    "plt.scatter(centroids[:,0], centroids[:,1], marker = \"*\", c = \"black\", s = 200)\n",
    "plt.show()"
   ]
  },
  {
   "cell_type": "code",
   "execution_count": null,
   "metadata": {},
   "outputs": [],
   "source": [
    "gmm = GaussianMixture(n_components = 2)\n",
    "labels = gmm.fit(X).predict(X)\n",
    "print(\"GMM labels: \", labels)\n",
    "plt.title(\"Graph using GMM\")\n",
    "plt.scatter(X[:,0], X[:,1], c = labels, s = 40)\n",
    "plt.show()"
   ]
  }
 ],
 "metadata": {
  "kernelspec": {
   "display_name": "Python 3",
   "language": "python",
   "name": "python3"
  },
  "language_info": {
   "codemirror_mode": {
    "name": "ipython",
    "version": 3
   },
   "file_extension": ".py",
   "mimetype": "text/x-python",
   "name": "python",
   "nbconvert_exporter": "python",
   "pygments_lexer": "ipython3",
   "version": "3.8.6"
  }
 },
 "nbformat": 4,
 "nbformat_minor": 4
}
